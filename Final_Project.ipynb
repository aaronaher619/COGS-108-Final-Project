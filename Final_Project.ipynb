{
 "cells": [
  {
   "cell_type": "markdown",
   "metadata": {},
   "source": [
    "# COGS 108 - Final Project\n"
   ]
  },
  {
   "cell_type": "markdown",
   "metadata": {},
   "source": [
    "## Permissions\n",
    "Place an X in the appropriate bracket below to specify if you would like your group's project to be made available to the public. (Note that PIDs will be scraped from the public submission, but student names will be included.)\n",
    "\n",
    "[X] YES - make available\n",
    "\n",
    "[ ] NO - keep private\n"
   ]
  },
  {
   "cell_type": "markdown",
   "metadata": {},
   "source": [
    "# Overview\n",
    "\n",
    "Our project explores the rent prices in San Diego with the introduction of Airbnb in the City. After comparing the rent price and Airbnb price in the years of 2014 to 2017, we want to then analyze this finding and compare to rent prices prior to 2014 as well.\n"
   ]
  },
  {
   "cell_type": "markdown",
   "metadata": {},
   "source": [
    "# Names\n",
    "\n",
    "* John Kim\n",
    "\n",
    "* Oscar Reyes\n",
    "\n",
    "* Hae-Chan Grace Kim\n",
    "\n",
    "* Edgar Matias\n",
    "\n",
    "* Aaron Hernandez\n"
   ]
  },
  {
   "cell_type": "markdown",
   "metadata": {},
   "source": [
    "# Group Members IDs\n",
    "\n",
    "* A13592794\n",
    "* A13664593\n",
    "* A13937393\n",
    "* A15702345\n",
    "* A12623880\n"
   ]
  },
  {
   "cell_type": "markdown",
   "metadata": {},
   "source": [
    "# Research Question\n",
    " \n",
    "How does having an Airbnb affect the prices of surrounding rentals? Does it devalue or overprice the rental price?\n"
   ]
  },
  {
   "cell_type": "markdown",
   "metadata": {},
   "source": [
    "# Background and Prior Work\n",
    "\n",
    "As avid Airbnb users, we realized that using this service is more appealing to our demographic as students. When looking for places to stay, we tend to open up Airbnb rather than using other third-party apps or services that offer stays such as Hotels.com or Booking.com. We began to wonder why this is the case and wanted to look into the impact it can bring on the price of the general renting market in a specific city (1). What makes this topic interesting is the fact that Airbnb offers services such as short-term and long-term stays which can almost replace the traditional renting space options such as month to month rent or hotel options. Oftentimes Airbnb’s are preferred for long-term stays since the consumer has access to a place equipped with a better living situation with perks such as a kitchen, a TV, and generally more spacious rooms. In regards to our hypothesis, we wanted to look at the positive or negative impact Airbnb can bring in a city in regards to rent prices. We were able to come up with this by looking at articles and publishings that attribute to the impact on hotel price strategy (2). This allows us to critically analyze and find patterns Airbnb introduces in the market of renting a space.\n",
    " \n",
    "The topic and our dataset would be important to stakeholders such as renters and landlords. We also want to see the significance of how San Diego state bill was passed and its attribution to the importance of people living and coming to rent in this city (3). To help aid our direction for this topic by looking at two case studies where one looks into hotel vs Airbnb prices, while the other explains the impact Airbnb brings into the housing market. The study focusing on prices between hotel and Airbnb concluded that “Hotels more centrally located show more fierce competition with their Airbnb neighbors, with less central hotels less affected (4).” This highlights an interesting dynamic Airbnb brings into the market of rental spaces. Additionally, the other case study makes a statement about how there is a trend for absentee landlords to move their long-term rent to short-term rent (5).\n",
    " \n",
    "References:\n",
    "https://www.smartcitiesdive.com/ex/sustainablecitiescollective/airbnb-phenomenon-what-s-impact-cities/294081/\n",
    "\n",
    "https://www.phocuswire.com/airbnb-versus-hotels-pricing-strategy\n",
    "\n",
    "https://www.sandiegouniontribune.com/business/tourism/story/2019-05-23/state-bill-clamping-down-on-airbnb-rentals-in-san-diego-clears-major-hurdle-in-state-assembly\n",
    "\n",
    "https://nycdatascience.com/blog/student-works/web-scraping/hotels-vs-airbnb-barcelona-case-study-proof-of-concept/\n",
    "\n",
    "https://hbr.org/2019/04/research-when-airbnb-listings-in-a-city-increase-so-do-rent-prices\n"
   ]
  },
  {
   "cell_type": "markdown",
   "metadata": {},
   "source": [
    "# Hypothesis\n",
    "\n",
    "We think that having an Airbnb in the neighborhood will have a positive effect (from the perspective of the renters) which will reduce the price of surrounding rentals. Since Airbnb can be competitive and take away business then we think it will make the landlords lower they’re prices to compete with Airbnb.\n"
   ]
  },
  {
   "cell_type": "markdown",
   "metadata": {},
   "source": [
    "# Dataset(s)\n",
    "\n",
    "* Dataset Name: ?\n",
    "* Link to the dataset: ?\n",
    "* Number of observations: This dataset contains ? rows and ? columns.\n",
    "\n",
    "\n",
    "decription of where the dataset was from and how it will be important, also talk about some column names and what it corresponds to\n",
    "\n",
    "* Dataset Name: Zillow Rent data\n",
    "* Link to the dataset: https://www.zillow.com/research/data/\n",
    "* Number of observations: This dataset contains 9239 rows and 119 columns.\n",
    "\n",
    "\n",
    "This data is form Zillow's housing data which has rent dataset ranging monthly from 2010 to 2020. There are multiple cities and rent prices according to their geolocation. \n"
   ]
  },
  {
   "cell_type": "markdown",
   "metadata": {},
   "source": [
    "# Setup"
   ]
  },
  {
   "cell_type": "code",
   "execution_count": 1,
   "metadata": {},
   "outputs": [],
   "source": [
    "# Imports \n",
    "%matplotlib inline\n",
    "\n",
    "import numpy as np\n",
    "import pandas as pd\n",
    "import matplotlib.pyplot as plt\n",
    "import warnings\n",
    "warnings.filterwarnings('ignore')\n",
    "import matplotlib.ticker as mticker\n"
   ]
  },
  {
   "cell_type": "markdown",
   "metadata": {},
   "source": [
    "# Data Cleaning\n",
    "Describe your data cleaning steps here.\n"
   ]
  },
  {
   "cell_type": "code",
   "execution_count": 15,
   "metadata": {},
   "outputs": [],
   "source": [
    "#pd.set_option('display.max_rows', 1000)\n",
    "df_zillow_rent = pd.read_csv(\"Neighborhood_Zri_AllHomesPlusMultifamily.csv\")\n",
    "df_zillow_rent = df_zillow_rent[df_zillow_rent['City'] == 'San Diego' ]\n",
    "df_zillow_rent = df_zillow_rent.drop(columns = ['RegionID', 'Metro', 'CountyName', 'State', 'CountyName', 'City'], axis = 1)\n",
    "df_zillow_rent = df_zillow_rent.reset_index()\n",
    "df_zillow_rent = df_zillow_rent.drop(columns = 'index', axis = 1 )\n",
    "df_zillow_rent = df_zillow_rent.drop(df_zillow_rent.iloc[:,2:6], axis = 1)\n",
    "for i in range(3, 20):\n",
    "    df_zillow_rent = df_zillow_rent.drop(df_zillow_rent.iloc[:,i:i+5], axis = 1)\n",
    "df_zillow_rent = df_zillow_rent.drop(df_zillow_rent.iloc[:,18:], axis = 1)\n",
    "df_zillow_rent = df_zillow_rent.drop(columns = ['SizeRank'])\n",
    "df_zillow_rent = df_zillow_rent.sort_values('RegionName')\n",
    "df_zillow_rent = df_zillow_rent.reset_index()\n",
    "df_zillow_rent = df_zillow_rent.drop(columns = 'index', axis = 1 )\n",
    "#df_zillow_rent"
   ]
  },
  {
   "cell_type": "code",
   "execution_count": 3,
   "metadata": {},
   "outputs": [],
   "source": [
    "#for i in range(0, 80):\n",
    "    #city = df_zillow_rent.loc[i, :].squeeze()\n",
    "    #print(city[0])\n",
    "    #city.iloc[1:].plot()\n",
    "    #plt.show()"
   ]
  },
  {
   "cell_type": "code",
   "execution_count": 4,
   "metadata": {},
   "outputs": [],
   "source": [
    "df_2014_A = pd.read_csv(\"AirBnb Data/airbnb_san_diego_2014-05-25.csv\")\n",
    "df_2014_A = df_2014_A.drop(df_2014_A.iloc[:,10:], axis = 1)\n",
    "df_2014_A = df_2014_A.drop(df_2014_A.iloc[:,0:4], axis = 1)\n",
    "df_2014_A = df_2014_A.drop(df_2014_A.iloc[:,1:5], axis = 1)\n",
    "df_2014_A = df_2014_A.groupby(['neighborhood']).mean()\n",
    "df_2014_A = df_2014_A.reset_index()\n",
    "df_2014_A = df_2014_A.rename(columns={\"neighborhood\": \"RegionName\"})\n",
    "df_2014_A = df_2014_A.rename(columns={\"price\": \"2014-A\"})\n",
    "#df_2014_A"
   ]
  },
  {
   "cell_type": "code",
   "execution_count": 5,
   "metadata": {},
   "outputs": [],
   "source": [
    "df_2014_B = pd.read_csv(\"AirBnb Data/airbnb_san_diego_2014-11-03.csv\")\n",
    "df_2014_B = df_2014_B.drop(df_2014_B.iloc[:,10:], axis = 1)\n",
    "df_2014_B = df_2014_B.drop(df_2014_B.iloc[:,0:4], axis = 1)\n",
    "df_2014_B = df_2014_B.drop(df_2014_B.iloc[:,1:5], axis = 1)\n",
    "df_2014_B = df_2014_B.groupby(['neighborhood']).mean()\n",
    "df_2014_B = df_2014_B.reset_index()\n",
    "df_2014_B = df_2014_B.rename(columns={\"neighborhood\": \"RegionName\"})\n",
    "df_2014_B = df_2014_B.rename(columns={\"price\": \"2014-B\"})\n",
    "#df_2014_B"
   ]
  },
  {
   "cell_type": "code",
   "execution_count": 6,
   "metadata": {},
   "outputs": [],
   "source": [
    "df_2015_A = pd.read_csv(\"AirBnb Data/airbnb_san_diego_2015-08-22.csv\")\n",
    "df_2015_A = df_2015_A.drop(df_2015_A.iloc[:,10:], axis = 1)\n",
    "df_2015_A = df_2015_A.drop(df_2015_A.iloc[:,0:4], axis = 1)\n",
    "df_2015_A = df_2015_A.drop(df_2015_A.iloc[:,1:5], axis = 1)\n",
    "df_2015_A = df_2015_A.groupby(['neighborhood']).mean()\n",
    "df_2015_A = df_2015_A.reset_index()\n",
    "df_2015_A = df_2015_A.rename(columns={\"neighborhood\": \"RegionName\"})\n",
    "df_2015_A = df_2015_A.rename(columns={\"price\": \"2015-A\"})\n",
    "#df_2015_A"
   ]
  },
  {
   "cell_type": "code",
   "execution_count": 7,
   "metadata": {},
   "outputs": [],
   "source": [
    "df_2015_B = pd.read_csv(\"AirBnb Data/airbnb_san_diego_2015-10-23.csv\")\n",
    "df_2015_B = df_2015_B.drop(df_2015_B.iloc[:,10:], axis = 1)\n",
    "df_2015_B = df_2015_B.drop(df_2015_B.iloc[:,0:4], axis = 1)\n",
    "df_2015_B = df_2015_B.drop(df_2015_B.iloc[:,1:5], axis = 1)\n",
    "df_2015_B = df_2015_B.groupby(['neighborhood']).mean()\n",
    "df_2015_B = df_2015_B.reset_index()\n",
    "df_2015_B = df_2015_B.rename(columns={\"neighborhood\": \"RegionName\"})\n",
    "df_2015_B = df_2015_B.rename(columns={\"price\": \"2015-B\"})\n",
    "#df_2015_B"
   ]
  },
  {
   "cell_type": "code",
   "execution_count": 8,
   "metadata": {},
   "outputs": [],
   "source": [
    "df_2016_A = pd.read_csv(\"AirBnb Data/airbnb_san_diego_2016-01-19.csv\")\n",
    "df_2016_A = df_2016_A.drop(df_2016_A.iloc[:,10:], axis = 1)\n",
    "df_2016_A = df_2016_A.drop(df_2016_A.iloc[:,0:4], axis = 1)\n",
    "df_2016_A = df_2016_A.drop(df_2016_A.iloc[:,1:5], axis = 1)\n",
    "df_2016_A = df_2016_A.groupby(['neighborhood']).mean()\n",
    "df_2016_A = df_2016_A.reset_index()\n",
    "df_2016_A = df_2016_A.rename(columns={\"neighborhood\": \"RegionName\"})\n",
    "df_2016_A = df_2016_A.rename(columns={\"price\": \"2016-A\"})\n",
    "#df_2016_A"
   ]
  },
  {
   "cell_type": "code",
   "execution_count": 9,
   "metadata": {},
   "outputs": [],
   "source": [
    "df_2016_B = pd.read_csv(\"AirBnb Data/airbnb_san_diego_2016-07-19.csv\")\n",
    "df_2016_B = df_2016_B.drop(df_2016_B.iloc[:,10:], axis = 1)\n",
    "df_2016_B = df_2016_B.drop(df_2016_B.iloc[:,0:4], axis = 1)\n",
    "df_2016_B = df_2016_B.drop(df_2016_B.iloc[:,1:5], axis = 1)\n",
    "df_2016_B = df_2016_B.groupby(['neighborhood']).mean()\n",
    "df_2016_B = df_2016_B.reset_index()\n",
    "df_2016_B = df_2016_B.rename(columns={\"neighborhood\": \"RegionName\"})\n",
    "df_2016_B = df_2016_B.rename(columns={\"price\": \"2016-B\"})\n",
    "#df_2016_B"
   ]
  },
  {
   "cell_type": "code",
   "execution_count": 10,
   "metadata": {},
   "outputs": [],
   "source": [
    "df_2017_A = pd.read_csv(\"AirBnb Data/airbnb_san_diego_2016-01-19.csv\")\n",
    "df_2017_A = df_2017_A.drop(df_2017_A.iloc[:,10:], axis = 1)\n",
    "df_2017_A = df_2017_A.drop(df_2017_A.iloc[:,0:4], axis = 1)\n",
    "df_2017_A = df_2017_A.drop(df_2017_A.iloc[:,1:5], axis = 1)\n",
    "df_2017_A = df_2017_A.groupby(['neighborhood']).mean()\n",
    "df_2017_A = df_2017_A.reset_index()\n",
    "df_2017_A = df_2017_A.rename(columns={\"neighborhood\": \"RegionName\"})\n",
    "df_2017_A = df_2017_A.rename(columns={\"price\": \"2017-A\"})\n",
    "#df_2017_A"
   ]
  },
  {
   "cell_type": "code",
   "execution_count": 11,
   "metadata": {},
   "outputs": [],
   "source": [
    "df_2017_B = pd.read_csv(\"AirBnb Data/airbnb_san_diego_2016-07-19.csv\")\n",
    "df_2017_B = df_2017_B.drop(df_2017_B.iloc[:,10:], axis = 1)\n",
    "df_2017_B = df_2017_B.drop(df_2017_B.iloc[:,0:4], axis = 1)\n",
    "df_2017_B = df_2017_B.drop(df_2017_B.iloc[:,1:5], axis = 1)\n",
    "df_2017_B = df_2017_B.groupby(['neighborhood']).mean()\n",
    "df_2017_B = df_2017_B.reset_index()\n",
    "df_2017_B = df_2017_B.rename(columns={\"neighborhood\": \"RegionName\"})\n",
    "df_2017_B = df_2017_B.rename(columns={\"price\": \"2017-B\"})\n",
    "#df_2017_B"
   ]
  },
  {
   "cell_type": "code",
   "execution_count": 12,
   "metadata": {},
   "outputs": [],
   "source": [
    "df_airbnb = pd.DataFrame()\n",
    "df_airbnb = df_airbnb.append(df_2014_A, ignore_index=True)\n",
    "df_airbnb = df_airbnb.drop(columns = '2014-A', axis = 1 )\n",
    "df_airbnb['2014-A'] = df_2014_A['2014-A']\n",
    "df_airbnb['2014-B'] = df_2014_B['2014-B']\n",
    "df_airbnb['2015-A'] = df_2015_A['2015-A']\n",
    "df_airbnb['2015-B'] = df_2015_B['2015-B']\n",
    "df_airbnb['2016-A'] = df_2016_A['2016-A']\n",
    "df_airbnb['2016-B'] = df_2016_B['2016-B']\n",
    "df_airbnb['2017-A'] = df_2017_A['2017-A']\n",
    "df_airbnb['2017-B'] = df_2017_B['2017-B']"
   ]
  },
  {
   "cell_type": "code",
   "execution_count": 13,
   "metadata": {},
   "outputs": [],
   "source": [
    "df_zillow = pd.merge(df_zillow_rent, df_2014_A, on='RegionName')\n",
    "df_zillow = pd.merge(df_zillow, df_2014_B, on='RegionName')\n",
    "df_zillow = pd.merge(df_zillow, df_2015_A, on='RegionName')\n",
    "df_zillow = pd.merge(df_zillow, df_2015_B, on='RegionName')\n",
    "df_zillow = pd.merge(df_zillow, df_2016_A, on='RegionName')\n",
    "df_zillow = pd.merge(df_zillow, df_2016_B, on='RegionName')\n",
    "df_zillow = pd.merge(df_zillow, df_2017_A, on='RegionName')\n",
    "df_zillow = pd.merge(df_zillow, df_2017_B, on='RegionName')\n",
    "df_zillow_rent = df_zillow.drop(df_zillow.iloc[:,17:], axis = 1)\n",
    "df_airbnb_2 = pd.DataFrame()\n",
    "L = [None] * 32\n",
    "df_airbnb_2['RegionName'] = df_zillow['RegionName']\n",
    "df_airbnb_2['2011-A'] = pd.Series(L)\n",
    "df_airbnb_2['2011-B'] = pd.Series(L)\n",
    "df_airbnb_2['2012-A'] = pd.Series(L)\n",
    "df_airbnb_2['2012-B'] = pd.Series(L)\n",
    "df_airbnb_2['2013-A'] = pd.Series(L)\n",
    "df_airbnb_2['2013-B'] = pd.Series(L)\n",
    "df_airbnb_2 = pd.merge(df_airbnb_2, df_zillow.drop(df_zillow.iloc[:,1:17], axis = 1), on='RegionName')"
   ]
  },
  {
   "cell_type": "code",
   "execution_count": 20,
   "metadata": {
    "scrolled": false
   },
   "outputs": [
    {
     "name": "stdout",
     "output_type": "stream",
     "text": [
      "Bay Ho\n",
      "Bay Park\n",
      "Carmel Valley\n",
      "Cortez Hill\n",
      "Del Cerro\n",
      "Del Mar Heights\n",
      "Encanto\n",
      "Grantville\n",
      "Kearny Mesa\n",
      "Kensington\n",
      "La Jolla\n",
      "Lake Murray\n",
      "Linda Vista\n",
      "Little Italy\n",
      "Loma Portal\n",
      "Marina\n",
      "Midtown\n",
      "Mira Mesa\n",
      "Normal Heights\n",
      "North City\n",
      "North Clairemont\n",
      "Oak Park\n",
      "Ocean Beach\n",
      "Pacific Beach\n",
      "Rancho Penasquitos\n",
      "San Carlos\n",
      "Scripps Ranch\n",
      "Serra Mesa\n",
      "Sorrento Valley\n",
      "South Park\n",
      "Talmadge\n",
      "University City\n"
     ]
    },
    {
     "data": {
      "image/png": "[encoded data removed]",
      "text/plain": [
       "<Figure size 432x288 with 1 Axes>"
      ]
     },
     "metadata": {
      "needs_background": "light"
     },
     "output_type": "display_data"
    }
   ],
   "source": [
    "for i in range(0, 32):\n",
    "    zillow = df_zillow_rent.loc[i, :].squeeze()\n",
    "    airbnb = df_airbnb_2.loc[i, :].squeeze()\n",
    "    print(airbnb[0])\n",
    "    zillow.iloc[1:].plot()\n",
    "    airbnb.iloc[1:].plot(use_index = False)\n",
    "    #plt.show()"
   ]
  },
  {
   "cell_type": "markdown",
   "metadata": {},
   "source": [
    "# Data Analysis & Results"
   ]
  },
  {
   "cell_type": "code",
   "execution_count": 31,
   "metadata": {},
   "outputs": [
    {
     "name": "stdout",
     "output_type": "stream",
     "text": [
      "2037.8201892528207\n",
      "2338.741575675786\n"
     ]
    },
    {
     "data": {
      "text/plain": [
       "300.92138642296527"
      ]
     },
     "execution_count": 31,
     "metadata": {},
     "output_type": "execute_result"
    }
   ],
   "source": [
    "series = df_zillow_rent.mean()\n",
    "print(series.iloc[0:6].mean())\n",
    "print(series.iloc[7:17].mean())\n",
    "series.iloc[7:17].mean() - series.iloc[0:6].mean()"
   ]
  },
  {
   "cell_type": "code",
   "execution_count": 17,
   "metadata": {},
   "outputs": [
    {
     "data": {
      "text/plain": [
       "2014-A    157.378701\n",
       "2014-B    182.078992\n",
       "2015-A    172.930739\n",
       "2015-B    163.971390\n",
       "2016-A    154.938494\n",
       "2016-B    185.053850\n",
       "2017-A    154.938494\n",
       "2017-B    185.053850\n",
       "dtype: float64"
      ]
     },
     "execution_count": 17,
     "metadata": {},
     "output_type": "execute_result"
    }
   ],
   "source": [
    "df_airbnb_2.mean()"
   ]
  },
  {
   "cell_type": "markdown",
   "metadata": {},
   "source": [
    "# Ethics & Privacy\n",
    "\n",
    "Yes the pricing data for hotels, Airbnb’s and apartments are all public so we have permission to use it and since the data is already public there are no privacy concerns. The dataset is raw data of prices and location of Airbnb’s in each city. We do not believe there are any potential privacy issues since all data collected is made public on multiple sites. That is true for both apartment prices and Airbnb prices. We also will not focus our analysis on specific addresses but on surrounding locations based on the locations of an Airbnb. If we were to be looking at how frequent the places were rented then there could be a bias on the way luxury rentals are promoted compared to lower quality rentals. The lower quality rentals could also then be only in primarily ethnic areas which then introduce a bias. However, we are not looking at that data so we avoid that potential bias.\n"
   ]
  },
  {
   "cell_type": "markdown",
   "metadata": {},
   "source": [
    "# Conclusion & Discussion\n",
    "Fill in your discussion information here\n"
   ]
  },
  {
   "cell_type": "markdown",
   "metadata": {},
   "source": [
    "# Team Contributions\n",
    "* John Joungseo Kim\n",
    "    * fsfs\n",
    "* Oscar Reyes\n",
    "    * fsfs\n",
    "* Hae-Chan Grace Kim\n",
    "    * fsfs\n",
    "* Edgar Matias\n",
    "    * xcxx\n",
    "* Aaron Hernandez\n",
    "    * csfsf\n"
   ]
  }
 ],
 "metadata": {
  "kernelspec": {
   "display_name": "Python 3",
   "language": "python",
   "name": "python3"
  },
  "language_info": {
   "codemirror_mode": {
    "name": "ipython",
    "version": 3
   },
   "file_extension": ".py",
   "mimetype": "text/x-python",
   "name": "python",
   "nbconvert_exporter": "python",
   "pygments_lexer": "ipython3",
   "version": "3.6.7"
  }
 },
 "nbformat": 4,
 "nbformat_minor": 2
}
