{
 "cells": [
  {
   "cell_type": "markdown",
   "metadata": {},
   "source": [
    "# COGS 108 Final Project Check-In\n",
    "\n",
    "### Names\n",
    "\n",
    "- John Kim\n",
    "- Oscar Reyes\n",
    "- Hae-Chan Grace Ki\n",
    "- Edgar Matias\n",
    "- Aaron Hernandez\n",
    "\n",
    "\n",
    "### Group Members IDs\n",
    "\n",
    "- A13592794\n",
    "- A13664593\n",
    "- A13937393\n",
    "- A15702345\n",
    "- A12623880\n",
    "\n",
    "\n",
    "### Accomplishments\n",
    "\n",
    "- We were able to find a decent dataset that ranges from 1996 to present regarding San Diego house/rent pricing\n",
    "- We also found good data regarding Airbnb listings and their pricing dating back to 2010 \n",
    "- We discussed what types of columns we would need and not need for the purpose of this project     \n",
    "- We decided on the data visualization types we want for our project\n",
    "\n",
    "### Going Well\n",
    "\n",
    "- Team communicates well and is able to meet up in person for better facilitation\n",
    "- We help each other out if someone is stuck or unfamiliar with something\n",
    "- Data is sorted well enough to break down and analyze thoroughly \n",
    "- Found multiple resources indicating when new regulations have been passed throughout certain counties in San Diego\n",
    "\n",
    "### Struggles\n",
    "\n",
    "- Taking into account all other factors that affect the prices of houses \n",
    "- The change of regulations throughout different counties that Airbnb must enforce\n",
    "- Connect the data while taking both issues presented into consideration when presenting our final result \n",
    "- Had difficulty in finding San Diego specific data \n",
    "\n",
    "### Plan Forward\n",
    "\n",
    "We will continue to thoroughly research the factors that we must consider when presenting our final result. Begin to filter out data out of our data set that is unneeded to simplify our input dataset. As well as continue to communicate within our group whenever a new issue is found or resolved. \n"
   ]
  }
 ],
 "metadata": {
  "kernelspec": {
   "display_name": "Python 3",
   "language": "python",
   "name": "python3"
  },
  "language_info": {
   "codemirror_mode": {
    "name": "ipython",
    "version": 3
   },
   "file_extension": ".py",
   "mimetype": "text/x-python",
   "name": "python",
   "nbconvert_exporter": "python",
   "pygments_lexer": "ipython3",
   "version": "3.6.7"
  }
 },
 "nbformat": 4,
 "nbformat_minor": 2
}
